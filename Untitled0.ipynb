{
  "nbformat": 4,
  "nbformat_minor": 0,
  "metadata": {
    "colab": {
      "name": "Untitled0.ipynb",
      "provenance": []
    },
    "kernelspec": {
      "name": "python3",
      "display_name": "Python 3"
    }
  },
  "cells": [
    {
      "cell_type": "markdown",
      "metadata": {
        "id": "TWlspmupXtgY",
        "colab_type": "text"
      },
      "source": [
        "# Environment Setup\n"
      ]
    },
    {
      "cell_type": "code",
      "metadata": {
        "id": "tDgnqEFEXoj-",
        "colab_type": "code",
        "colab": {
          "base_uri": "https://localhost:8080/",
          "height": 731
        },
        "outputId": "10e70ff5-9ec1-4154-fd3b-3cd24fa380e5"
      },
      "source": [
        "pip install mesa==0.8.6"
      ],
      "execution_count": 1,
      "outputs": [
        {
          "output_type": "stream",
          "text": [
            "Collecting mesa==0.8.6\n",
            "\u001b[?25l  Downloading https://files.pythonhosted.org/packages/20/e6/402b21f702498163df606e541f90dced4f9a570922f7faf22a193bd668f3/Mesa-0.8.6.tar.gz (627kB)\n",
            "\r\u001b[K     |▌                               | 10kB 18.7MB/s eta 0:00:01\r\u001b[K     |█                               | 20kB 1.7MB/s eta 0:00:01\r\u001b[K     |█▋                              | 30kB 2.3MB/s eta 0:00:01\r\u001b[K     |██                              | 40kB 2.6MB/s eta 0:00:01\r\u001b[K     |██▋                             | 51kB 1.9MB/s eta 0:00:01\r\u001b[K     |███▏                            | 61kB 2.3MB/s eta 0:00:01\r\u001b[K     |███▋                            | 71kB 2.5MB/s eta 0:00:01\r\u001b[K     |████▏                           | 81kB 2.7MB/s eta 0:00:01\r\u001b[K     |████▊                           | 92kB 2.9MB/s eta 0:00:01\r\u001b[K     |█████▎                          | 102kB 2.8MB/s eta 0:00:01\r\u001b[K     |█████▊                          | 112kB 2.8MB/s eta 0:00:01\r\u001b[K     |██████▎                         | 122kB 2.8MB/s eta 0:00:01\r\u001b[K     |██████▉                         | 133kB 2.8MB/s eta 0:00:01\r\u001b[K     |███████▎                        | 143kB 2.8MB/s eta 0:00:01\r\u001b[K     |███████▉                        | 153kB 2.8MB/s eta 0:00:01\r\u001b[K     |████████▍                       | 163kB 2.8MB/s eta 0:00:01\r\u001b[K     |████████▉                       | 174kB 2.8MB/s eta 0:00:01\r\u001b[K     |█████████▍                      | 184kB 2.8MB/s eta 0:00:01\r\u001b[K     |██████████                      | 194kB 2.8MB/s eta 0:00:01\r\u001b[K     |██████████▌                     | 204kB 2.8MB/s eta 0:00:01\r\u001b[K     |███████████                     | 215kB 2.8MB/s eta 0:00:01\r\u001b[K     |███████████▌                    | 225kB 2.8MB/s eta 0:00:01\r\u001b[K     |████████████                    | 235kB 2.8MB/s eta 0:00:01\r\u001b[K     |████████████▌                   | 245kB 2.8MB/s eta 0:00:01\r\u001b[K     |█████████████                   | 256kB 2.8MB/s eta 0:00:01\r\u001b[K     |█████████████▋                  | 266kB 2.8MB/s eta 0:00:01\r\u001b[K     |██████████████                  | 276kB 2.8MB/s eta 0:00:01\r\u001b[K     |██████████████▋                 | 286kB 2.8MB/s eta 0:00:01\r\u001b[K     |███████████████▏                | 296kB 2.8MB/s eta 0:00:01\r\u001b[K     |███████████████▊                | 307kB 2.8MB/s eta 0:00:01\r\u001b[K     |████████████████▏               | 317kB 2.8MB/s eta 0:00:01\r\u001b[K     |████████████████▊               | 327kB 2.8MB/s eta 0:00:01\r\u001b[K     |█████████████████▎              | 337kB 2.8MB/s eta 0:00:01\r\u001b[K     |█████████████████▊              | 348kB 2.8MB/s eta 0:00:01\r\u001b[K     |██████████████████▎             | 358kB 2.8MB/s eta 0:00:01\r\u001b[K     |██████████████████▉             | 368kB 2.8MB/s eta 0:00:01\r\u001b[K     |███████████████████▎            | 378kB 2.8MB/s eta 0:00:01\r\u001b[K     |███████████████████▉            | 389kB 2.8MB/s eta 0:00:01\r\u001b[K     |████████████████████▍           | 399kB 2.8MB/s eta 0:00:01\r\u001b[K     |█████████████████████           | 409kB 2.8MB/s eta 0:00:01\r\u001b[K     |█████████████████████▍          | 419kB 2.8MB/s eta 0:00:01\r\u001b[K     |██████████████████████          | 430kB 2.8MB/s eta 0:00:01\r\u001b[K     |██████████████████████▌         | 440kB 2.8MB/s eta 0:00:01\r\u001b[K     |███████████████████████         | 450kB 2.8MB/s eta 0:00:01\r\u001b[K     |███████████████████████▌        | 460kB 2.8MB/s eta 0:00:01\r\u001b[K     |████████████████████████        | 471kB 2.8MB/s eta 0:00:01\r\u001b[K     |████████████████████████▌       | 481kB 2.8MB/s eta 0:00:01\r\u001b[K     |█████████████████████████       | 491kB 2.8MB/s eta 0:00:01\r\u001b[K     |█████████████████████████▋      | 501kB 2.8MB/s eta 0:00:01\r\u001b[K     |██████████████████████████▏     | 512kB 2.8MB/s eta 0:00:01\r\u001b[K     |██████████████████████████▋     | 522kB 2.8MB/s eta 0:00:01\r\u001b[K     |███████████████████████████▏    | 532kB 2.8MB/s eta 0:00:01\r\u001b[K     |███████████████████████████▊    | 542kB 2.8MB/s eta 0:00:01\r\u001b[K     |████████████████████████████▏   | 552kB 2.8MB/s eta 0:00:01\r\u001b[K     |████████████████████████████▊   | 563kB 2.8MB/s eta 0:00:01\r\u001b[K     |█████████████████████████████▎  | 573kB 2.8MB/s eta 0:00:01\r\u001b[K     |█████████████████████████████▊  | 583kB 2.8MB/s eta 0:00:01\r\u001b[K     |██████████████████████████████▎ | 593kB 2.8MB/s eta 0:00:01\r\u001b[K     |██████████████████████████████▉ | 604kB 2.8MB/s eta 0:00:01\r\u001b[K     |███████████████████████████████▍| 614kB 2.8MB/s eta 0:00:01\r\u001b[K     |███████████████████████████████▉| 624kB 2.8MB/s eta 0:00:01\r\u001b[K     |████████████████████████████████| 634kB 2.8MB/s \n",
            "\u001b[?25hRequirement already satisfied: click in /usr/local/lib/python3.6/dist-packages (from mesa==0.8.6) (7.1.2)\n",
            "Collecting cookiecutter\n",
            "  Downloading https://files.pythonhosted.org/packages/95/83/83ebf950ec99b02c61719ccb116462844ba2e873df7c4d40afc962494312/cookiecutter-1.7.2-py2.py3-none-any.whl\n",
            "Requirement already satisfied: networkx in /usr/local/lib/python3.6/dist-packages (from mesa==0.8.6) (2.4)\n",
            "Requirement already satisfied: numpy in /usr/local/lib/python3.6/dist-packages (from mesa==0.8.6) (1.18.5)\n",
            "Requirement already satisfied: pandas in /usr/local/lib/python3.6/dist-packages (from mesa==0.8.6) (1.0.5)\n",
            "Requirement already satisfied: tornado in /usr/local/lib/python3.6/dist-packages (from mesa==0.8.6) (4.5.3)\n",
            "Requirement already satisfied: tqdm in /usr/local/lib/python3.6/dist-packages (from mesa==0.8.6) (4.41.1)\n",
            "Requirement already satisfied: Jinja2<3.0.0 in /usr/local/lib/python3.6/dist-packages (from cookiecutter->mesa==0.8.6) (2.11.2)\n",
            "Requirement already satisfied: requests>=2.23.0 in /usr/local/lib/python3.6/dist-packages (from cookiecutter->mesa==0.8.6) (2.23.0)\n",
            "Collecting poyo>=0.5.0\n",
            "  Downloading https://files.pythonhosted.org/packages/42/50/0b0820601bde2eda403f47b9a4a1f270098ed0dd4c00c443d883164bdccc/poyo-0.5.0-py2.py3-none-any.whl\n",
            "Requirement already satisfied: MarkupSafe<2.0.0 in /usr/local/lib/python3.6/dist-packages (from cookiecutter->mesa==0.8.6) (1.1.1)\n",
            "Collecting binaryornot>=0.4.4\n",
            "  Downloading https://files.pythonhosted.org/packages/24/7e/f7b6f453e6481d1e233540262ccbfcf89adcd43606f44a028d7f5fae5eb2/binaryornot-0.4.4-py2.py3-none-any.whl\n",
            "Collecting jinja2-time>=0.2.0\n",
            "  Downloading https://files.pythonhosted.org/packages/6a/a1/d44fa38306ffa34a7e1af09632b158e13ec89670ce491f8a15af3ebcb4e4/jinja2_time-0.2.0-py2.py3-none-any.whl\n",
            "Requirement already satisfied: six>=1.10 in /usr/local/lib/python3.6/dist-packages (from cookiecutter->mesa==0.8.6) (1.12.0)\n",
            "Requirement already satisfied: python-slugify>=4.0.0 in /usr/local/lib/python3.6/dist-packages (from cookiecutter->mesa==0.8.6) (4.0.1)\n",
            "Requirement already satisfied: decorator>=4.3.0 in /usr/local/lib/python3.6/dist-packages (from networkx->mesa==0.8.6) (4.4.2)\n",
            "Requirement already satisfied: pytz>=2017.2 in /usr/local/lib/python3.6/dist-packages (from pandas->mesa==0.8.6) (2018.9)\n",
            "Requirement already satisfied: python-dateutil>=2.6.1 in /usr/local/lib/python3.6/dist-packages (from pandas->mesa==0.8.6) (2.8.1)\n",
            "Requirement already satisfied: urllib3!=1.25.0,!=1.25.1,<1.26,>=1.21.1 in /usr/local/lib/python3.6/dist-packages (from requests>=2.23.0->cookiecutter->mesa==0.8.6) (1.24.3)\n",
            "Requirement already satisfied: idna<3,>=2.5 in /usr/local/lib/python3.6/dist-packages (from requests>=2.23.0->cookiecutter->mesa==0.8.6) (2.10)\n",
            "Requirement already satisfied: chardet<4,>=3.0.2 in /usr/local/lib/python3.6/dist-packages (from requests>=2.23.0->cookiecutter->mesa==0.8.6) (3.0.4)\n",
            "Requirement already satisfied: certifi>=2017.4.17 in /usr/local/lib/python3.6/dist-packages (from requests>=2.23.0->cookiecutter->mesa==0.8.6) (2020.6.20)\n",
            "Collecting arrow\n",
            "\u001b[?25l  Downloading https://files.pythonhosted.org/packages/36/cf/9e503ab3007c531a7d773e65261ae2c732f7663185bf7e5091c5ea852846/arrow-0.15.7-py2.py3-none-any.whl (48kB)\n",
            "\u001b[K     |████████████████████████████████| 51kB 5.5MB/s \n",
            "\u001b[?25hRequirement already satisfied: text-unidecode>=1.3 in /usr/local/lib/python3.6/dist-packages (from python-slugify>=4.0.0->cookiecutter->mesa==0.8.6) (1.3)\n",
            "Building wheels for collected packages: mesa\n",
            "  Building wheel for mesa (setup.py) ... \u001b[?25l\u001b[?25hdone\n",
            "  Created wheel for mesa: filename=Mesa-0.8.6-cp36-none-any.whl size=646978 sha256=eab3e0ba08ad18a408623ec086989168d8fcc30a8fec22d5184aa9396a52ea79\n",
            "  Stored in directory: /root/.cache/pip/wheels/0b/e1/a9/8cb6a66246419d8268c559c551a6ea176481003d68168de011\n",
            "Successfully built mesa\n",
            "Installing collected packages: poyo, binaryornot, arrow, jinja2-time, cookiecutter, mesa\n",
            "Successfully installed arrow-0.15.7 binaryornot-0.4.4 cookiecutter-1.7.2 jinja2-time-0.2.0 mesa-0.8.6 poyo-0.5.0\n"
          ],
          "name": "stdout"
        }
      ]
    }
  ]
}